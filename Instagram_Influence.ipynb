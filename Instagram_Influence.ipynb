{
 "cells": [
  {
   "cell_type": "code",
   "execution_count": 1,
   "metadata": {},
   "outputs": [],
   "source": [
    "from bs4 import BeautifulSoup\n",
    "import time\n",
    "import re\n",
    "from selenium import webdriver # 브라우저를 조작하는 모듈\n",
    "from selenium.webdriver.chrome.service import Service # 크롬 드라이버의 시작과 중지를 담당하는 클래스\n",
    "from selenium.webdriver.common.by import By # 엘리먼트를 어떤 방식으로 선택할 지에 대한 상수\n",
    "from webdriver_manager.chrome import ChromeDriverManager # 크롬 드라이버를 관리\n",
    "import pandas as pd\n",
    "from tqdm.auto import tqdm\n",
    "from selenium.webdriver import ActionChains\n",
    "from selenium.webdriver.support import expected_conditions as EC\n",
    "from selenium.webdriver.support.ui import WebDriverWait"
   ]
  },
  {
   "cell_type": "markdown",
   "metadata": {},
   "source": [
    "#### 저는 명시적 대기를 사용하였지만 암묵적 대기를 사용하시면 더 빠르게 실행되게 할 수도 있습니다."
   ]
  },
  {
   "cell_type": "code",
   "execution_count": 2,
   "metadata": {},
   "outputs": [],
   "source": [
    "DATA_PATH1 = \"C:/finalproject/\""
   ]
  },
  {
   "cell_type": "code",
   "execution_count": 3,
   "metadata": {},
   "outputs": [
    {
     "data": {
      "text/html": [
       "<div>\n",
       "<style scoped>\n",
       "    .dataframe tbody tr th:only-of-type {\n",
       "        vertical-align: middle;\n",
       "    }\n",
       "\n",
       "    .dataframe tbody tr th {\n",
       "        vertical-align: top;\n",
       "    }\n",
       "\n",
       "    .dataframe thead th {\n",
       "        text-align: right;\n",
       "    }\n",
       "</style>\n",
       "<table border=\"1\" class=\"dataframe\">\n",
       "  <thead>\n",
       "    <tr style=\"text-align: right;\">\n",
       "      <th></th>\n",
       "      <th>NO.</th>\n",
       "      <th>ID</th>\n",
       "      <th>인스타 주소</th>\n",
       "      <th>팔로워 수</th>\n",
       "      <th>분야</th>\n",
       "    </tr>\n",
       "  </thead>\n",
       "  <tbody>\n",
       "    <tr>\n",
       "      <th>0</th>\n",
       "      <td>1</td>\n",
       "      <td>ve.rris</td>\n",
       "      <td>https://www.instagram.com/ve.rris/</td>\n",
       "      <td>5.6만</td>\n",
       "      <td>경제</td>\n",
       "    </tr>\n",
       "    <tr>\n",
       "      <th>1</th>\n",
       "      <td>2</td>\n",
       "      <td>alzzahwang</td>\n",
       "      <td>https://www.instagram.com/alzzahwang/</td>\n",
       "      <td>1.4만</td>\n",
       "      <td>경제</td>\n",
       "    </tr>\n",
       "    <tr>\n",
       "      <th>2</th>\n",
       "      <td>3</td>\n",
       "      <td>vengguri_toon</td>\n",
       "      <td>https://www.instagram.com/vengguri_toon/</td>\n",
       "      <td>11.9만</td>\n",
       "      <td>경제</td>\n",
       "    </tr>\n",
       "    <tr>\n",
       "      <th>3</th>\n",
       "      <td>4</td>\n",
       "      <td>hibi_heebee</td>\n",
       "      <td>https://www.instagram.com/hibi_heebee/</td>\n",
       "      <td>6.4만</td>\n",
       "      <td>경제</td>\n",
       "    </tr>\n",
       "    <tr>\n",
       "      <th>4</th>\n",
       "      <td>5</td>\n",
       "      <td>donizoa_</td>\n",
       "      <td>https://www.instagram.com/donizoa_/</td>\n",
       "      <td>2.5만</td>\n",
       "      <td>경제</td>\n",
       "    </tr>\n",
       "    <tr>\n",
       "      <th>...</th>\n",
       "      <td>...</td>\n",
       "      <td>...</td>\n",
       "      <td>...</td>\n",
       "      <td>...</td>\n",
       "      <td>...</td>\n",
       "    </tr>\n",
       "    <tr>\n",
       "      <th>350</th>\n",
       "      <td>351</td>\n",
       "      <td>lovely_szi</td>\n",
       "      <td>https://www.instagram.com/lovely_szi/</td>\n",
       "      <td>11.9만</td>\n",
       "      <td>운동</td>\n",
       "    </tr>\n",
       "    <tr>\n",
       "      <th>351</th>\n",
       "      <td>352</td>\n",
       "      <td>jungyun_diet</td>\n",
       "      <td>https://www.instagram.com/jungyun_diet/</td>\n",
       "      <td>4.4만</td>\n",
       "      <td>운동</td>\n",
       "    </tr>\n",
       "    <tr>\n",
       "      <th>352</th>\n",
       "      <td>353</td>\n",
       "      <td>o.o.g.i</td>\n",
       "      <td>https://www.instagram.com/o.o.g.i/</td>\n",
       "      <td>2.5만</td>\n",
       "      <td>일상</td>\n",
       "    </tr>\n",
       "    <tr>\n",
       "      <th>353</th>\n",
       "      <td>354</td>\n",
       "      <td>kinda__sweet</td>\n",
       "      <td>https://www.instagram.com/kinda__sweet/</td>\n",
       "      <td>4.4만</td>\n",
       "      <td>일상</td>\n",
       "    </tr>\n",
       "    <tr>\n",
       "      <th>354</th>\n",
       "      <td>355</td>\n",
       "      <td>jin_0310</td>\n",
       "      <td>https://www.instagram.com/jin_0310/</td>\n",
       "      <td>1.6만</td>\n",
       "      <td>일상</td>\n",
       "    </tr>\n",
       "  </tbody>\n",
       "</table>\n",
       "<p>355 rows × 5 columns</p>\n",
       "</div>"
      ],
      "text/plain": [
       "     NO.             ID                                    인스타 주소   팔로워 수   분야\n",
       "0      1        ve.rris        https://www.instagram.com/ve.rris/    5.6만   경제\n",
       "1      2     alzzahwang     https://www.instagram.com/alzzahwang/    1.4만   경제\n",
       "2      3  vengguri_toon  https://www.instagram.com/vengguri_toon/   11.9만   경제\n",
       "3      4    hibi_heebee    https://www.instagram.com/hibi_heebee/    6.4만   경제\n",
       "4      5       donizoa_       https://www.instagram.com/donizoa_/    2.5만   경제\n",
       "..   ...            ...                                       ...      ...  ..\n",
       "350  351     lovely_szi     https://www.instagram.com/lovely_szi/    11.9만  운동\n",
       "351  352   jungyun_diet   https://www.instagram.com/jungyun_diet/     4.4만  운동\n",
       "352  353        o.o.g.i        https://www.instagram.com/o.o.g.i/    2.5만   일상\n",
       "353  354   kinda__sweet   https://www.instagram.com/kinda__sweet/    4.4만   일상\n",
       "354  355       jin_0310       https://www.instagram.com/jin_0310/    1.6만   일상\n",
       "\n",
       "[355 rows x 5 columns]"
      ]
     },
     "execution_count": 3,
     "metadata": {},
     "output_type": "execute_result"
    }
   ],
   "source": [
    "influencer_list = pd.read_csv(f\"{DATA_PATH1}influencer_list.csv\", encoding=\"cp949\")\n",
    "influencer_list"
   ]
  },
  {
   "cell_type": "code",
   "execution_count": 24,
   "metadata": {},
   "outputs": [
    {
     "data": {
      "text/plain": [
       "'ve.rris'"
      ]
     },
     "execution_count": 24,
     "metadata": {},
     "output_type": "execute_result"
    }
   ],
   "source": [
    "influencer_list['ID'][0]"
   ]
  },
  {
   "cell_type": "code",
   "execution_count": 4,
   "metadata": {},
   "outputs": [],
   "source": [
    "address_list = influencer_list[\"인스타 주소\"].iloc[280:]"
   ]
  },
  {
   "cell_type": "code",
   "execution_count": 5,
   "metadata": {},
   "outputs": [
    {
     "data": {
      "text/plain": [
       "280           https://www.instagram.com/hoonjarro\n",
       "281      https://www.instagram.com/vovo_home_cook\n",
       "282        https://www.instagram.com/jeongeun0802\n",
       "283     https://www.instagram.com/haebromom_hanoi\n",
       "284    https://www.instagram.com/kyungsun_kitchen\n",
       "                          ...                    \n",
       "350         https://www.instagram.com/lovely_szi/\n",
       "351       https://www.instagram.com/jungyun_diet/\n",
       "352            https://www.instagram.com/o.o.g.i/\n",
       "353       https://www.instagram.com/kinda__sweet/\n",
       "354           https://www.instagram.com/jin_0310/\n",
       "Name: 인스타 주소, Length: 75, dtype: object"
      ]
     },
     "execution_count": 5,
     "metadata": {},
     "output_type": "execute_result"
    }
   ],
   "source": [
    "address_list"
   ]
  },
  {
   "cell_type": "code",
   "execution_count": 9,
   "metadata": {},
   "outputs": [],
   "source": [
    "DATA_PATH = \"C:/finalproject/\""
   ]
  },
  {
   "cell_type": "code",
   "execution_count": 10,
   "metadata": {},
   "outputs": [],
   "source": [
    "def influence_searching(ID):\n",
    "    url = \"https://www.instagram.com/\" + str(ID)\n",
    "    return url"
   ]
  },
  {
   "cell_type": "code",
   "execution_count": 11,
   "metadata": {},
   "outputs": [],
   "source": [
    "def select_first(driver):\n",
    "    first = driver.find_elements(By.CSS_SELECTOR, \"div._aagw\")[0]\n",
    "    first.click()\n",
    "    time.sleep(1.5)"
   ]
  },
  {
   "cell_type": "code",
   "execution_count": 14,
   "metadata": {},
   "outputs": [],
   "source": [
    "def get_content(driver):\n",
    "    html = driver.page_source\n",
    "    soup = BeautifulSoup(html, 'lxml')\n",
    "\n",
    "    # 본문 내용\n",
    "    try:\n",
    "        content = soup.select('div._a9zs')[0].text\n",
    "    except:\n",
    "        content = ''\n",
    "    # 해시 태그\n",
    "    tags = re.findall(r'#[^\\s#,\\\\]+', content)\n",
    "    # 작성 일자\n",
    "    date = soup.select('time._aaqe')[0]['datetime'][:10]\n",
    "    # 좋아요\n",
    "    try:\n",
    "        like = soup.select('section._ae5m._ae5n._ae5o > div > div > span > a > span')[0].text\n",
    "        like = re.findall(r'[0-9]+', like)[0]\n",
    "    except:\n",
    "        like = 0\n",
    "    \n",
    "    # 댓글 더보기 클릭\n",
    "    action = ActionChains(driver)\n",
    "    for _ in range(100):\n",
    "        try:\n",
    "            next_coment = driver.find_element(By.XPATH, '/html/body/div[2]/div/div/div[3]/div/div/div[1]/div/div[3]/div/div/div/div/div[2]/div/article/div/div[2]/div/div/div[2]/div[1]/ul/li/div/button')\n",
    "            action.move_to_element(next_coment).perform()\n",
    "            driver.implicitly_wait(10)\n",
    "            next_coment.click()\n",
    "            driver.implicitly_wait(10)\n",
    "        except:\n",
    "            break\n",
    "    # 아이디 및 댓글 수집\n",
    "    html = driver.page_source\n",
    "    soup = BeautifulSoup(html, 'lxml')\n",
    "    try:\n",
    "        username = [username.div.div.div.a.get_text() for username in soup.find_all('h3', {'class' :'_a9zc'})]\n",
    "        coments = [coment.get_text() for coment in soup.find_all('span', {'class':'_aacl _aaco _aacu _aacx _aad7 _aade'})]\n",
    "    except:\n",
    "        username = ''\n",
    "        coments = ''\n",
    "\n",
    "    content = re.sub(r'#[^\\s#,\\\\]+', \"\", content)\n",
    "    data = [content, username, coments, date, like, tags]\n",
    "    return data"
   ]
  },
  {
   "cell_type": "code",
   "execution_count": 15,
   "metadata": {},
   "outputs": [],
   "source": [
    "def move_next(driver):\n",
    "    right = driver.find_element(By.CSS_SELECTOR, 'div._aaqg._aaqh')\n",
    "    right.click()\n",
    "    time.sleep(3)"
   ]
  },
  {
   "cell_type": "code",
   "execution_count": 18,
   "metadata": {},
   "outputs": [],
   "source": [
    "# 인스타그램에 로그인\n",
    "options = webdriver.ChromeOptions()\n",
    "options.add_argument('--start-maximized') # 전체 화면\n",
    "# options.add_argument(\"--incognito\") # 시크릿 모드\n",
    "driver = webdriver.Chrome(\n",
    "    service=Service(ChromeDriverManager().install()),\n",
    "    options=options\n",
    ")\n",
    "\n",
    "driver.get('https://www.instagram.com')\n",
    "time.sleep(3)\n",
    "\n",
    "email = str(input('아이디:')) # 아이디 입력\n",
    "input_id = driver.find_element(By.CSS_SELECTOR, '#loginForm > div > div:nth-child(1) > div > label > input').send_keys(email)\n",
    "\n",
    "password = str(input('비밀번호:')) # 페스워드 입력\n",
    "input_pw = driver.find_element(By.CSS_SELECTOR, '#loginForm > div > div:nth-child(2) > div > label > input').send_keys(password)\n",
    "time.sleep(1)\n",
    "\n",
    "driver.find_element(By.CSS_SELECTOR, \"#loginForm > div > div:nth-child(3)\").click()\n",
    "\n",
    "time.sleep(5)"
   ]
  },
  {
   "cell_type": "code",
   "execution_count": 34,
   "metadata": {},
   "outputs": [
    {
     "data": {
      "application/vnd.jupyter.widget-view+json": {
       "model_id": "9a312a6ef3aa4f0ea3663864b75cc3db",
       "version_major": 2,
       "version_minor": 0
      },
      "text/plain": [
       "outer:   0%|          | 0/75 [00:00<?, ?it/s]"
      ]
     },
     "metadata": {},
     "output_type": "display_data"
    },
    {
     "data": {
      "application/vnd.jupyter.widget-view+json": {
       "model_id": "e612d484e2754dac8800aa49f4e68efd",
       "version_major": 2,
       "version_minor": 0
      },
      "text/plain": [
       "inner:   0%|          | 0/100 [00:00<?, ?it/s]"
      ]
     },
     "metadata": {},
     "output_type": "display_data"
    }
   ],
   "source": [
    "# 한명의 인플루언서마다 게시글 100개 크롤링\n",
    "target = 100\n",
    "for infuluence in tqdm(address_list, desc=\"outer\", position=0):\n",
    "    driver.get(infuluence)\n",
    "    \n",
    "    WebDriverWait(driver, 10).until(EC.presence_of_element_located((By.CSS_SELECTOR, \"span._ac2a\")))\n",
    "    count = int(driver.find_element(By.CSS_SELECTOR, \"span._ac2a\").text)\n",
    "    time.sleep(2)\n",
    "    select_first(driver)\n",
    "    \n",
    "    time.sleep(0.5)\n",
    "    results = []\n",
    "    for j in tqdm(range(target), desc=\"inner\", position=1):\n",
    "        if j >= count:\n",
    "            break\n",
    "        try:\n",
    "            data = get_content(driver)\n",
    "            results.append(data)\n",
    "            move_next(driver)\n",
    "        except Exception as e:\n",
    "            time.sleep(2)\n",
    "            move_next(driver)\n",
    "\n",
    "        time.sleep(3)\n",
    "    infuluence = infuluence.replace(\"/\",\"\")\n",
    "    infuluence = infuluence.split('.com')[1]\n",
    "    results_df = pd.DataFrame(results)\n",
    "    results_df.columns = ['content','username', 'coment', 'date', 'like', 'tags']\n",
    "    results_df.to_csv(f'{DATA_PATH}_{infuluence}_insta_crawling.csv', encoding='utf-8-sig')\n",
    "    # 다음 ID로 넘어가기전 너무 빠르게 하면 오류 및 사람인지 확인하는 메시지가 떠서 저는 우선 30초를 줬습니다. \n",
    "    # 본인이 해보시고 오류가 안나는 선에서 시간을 정하시면 됩니다.\n",
    "    \n",
    "    time.sleep(7)\n",
    "    \n",
    "driver.quit()"
   ]
  },
  {
   "cell_type": "code",
   "execution_count": 25,
   "metadata": {},
   "outputs": [
    {
     "data": {
      "text/plain": [
       "75"
      ]
     },
     "execution_count": 25,
     "metadata": {},
     "output_type": "execute_result"
    }
   ],
   "source": [
    "len(influencer_list['ID'][280:])"
   ]
  },
  {
   "cell_type": "code",
   "execution_count": 1,
   "metadata": {},
   "outputs": [
    {
     "data": {
      "text/plain": [
       "'https://www.instagram.com/ve.rris'"
      ]
     },
     "execution_count": 1,
     "metadata": {},
     "output_type": "execute_result"
    }
   ],
   "source": [
    "tmp = \"https://www.instagram.com/ve.rris/\"\t\n",
    "tmp.strip(\"/\")"
   ]
  },
  {
   "cell_type": "code",
   "execution_count": 2,
   "metadata": {},
   "outputs": [
    {
     "data": {
      "text/plain": [
       "'ve.rris'"
      ]
     },
     "execution_count": 2,
     "metadata": {},
     "output_type": "execute_result"
    }
   ],
   "source": [
    "tmp = tmp.replace(\"/\",\"\")\n",
    "tmp = tmp.split('.com')[1]\n",
    "tmp"
   ]
  },
  {
   "cell_type": "code",
   "execution_count": null,
   "metadata": {},
   "outputs": [],
   "source": []
  }
 ],
 "metadata": {
  "kernelspec": {
   "display_name": "Python 3",
   "language": "python",
   "name": "python3"
  },
  "language_info": {
   "codemirror_mode": {
    "name": "ipython",
    "version": 3
   },
   "file_extension": ".py",
   "mimetype": "text/x-python",
   "name": "python",
   "nbconvert_exporter": "python",
   "pygments_lexer": "ipython3",
   "version": "3.9.13"
  },
  "orig_nbformat": 4
 },
 "nbformat": 4,
 "nbformat_minor": 2
}
